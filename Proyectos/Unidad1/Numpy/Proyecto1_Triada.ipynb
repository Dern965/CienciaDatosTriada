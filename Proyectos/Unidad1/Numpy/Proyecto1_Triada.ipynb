{
 "cells": [
  {
   "attachments": {},
   "cell_type": "markdown",
   "metadata": {},
   "source": [
    "# Práctica 1"
   ]
  },
  {
   "attachments": {},
   "cell_type": "markdown",
   "metadata": {},
   "source": [
    "## Integrantes"
   ]
  },
  {
   "attachments": {},
   "cell_type": "markdown",
   "metadata": {},
   "source": [
    "* Garcia Saavedra Armando\n",
    "* Orozco Guillen Jorge David\n",
    "* Rodriguez Nuñez Diego Eduardo"
   ]
  },
  {
   "cell_type": "code",
   "execution_count": 1,
   "metadata": {},
   "outputs": [],
   "source": [
    "import numpy as np\n",
    "import matplotlib.pyplot as plt\n",
    "import timeit\n",
    "import pandas as pd"
   ]
  },
  {
   "attachments": {},
   "cell_type": "markdown",
   "metadata": {},
   "source": [
    "## Implementación del Mergesort"
   ]
  },
  {
   "cell_type": "code",
   "execution_count": 2,
   "metadata": {},
   "outputs": [],
   "source": [
    "def merge(arr_i,arr_d):\n",
    "    i=j=k=0\n",
    "    arreglo = np.zeros(len(arr_i)+len(arr_d))\n",
    "    while i < len(arr_i) and j < len(arr_d):\n",
    "        if arr_i[i] < arr_d[j]:\n",
    "            arreglo[k] = arr_i[i]\n",
    "            i += 1\n",
    "        else:\n",
    "            arreglo[k] = arr_d[j]\n",
    "            j += 1\n",
    "        k += 1\n",
    "\n",
    "    while i < len(arr_i):\n",
    "        arreglo[k] = arr_i[i]\n",
    "        i += 1\n",
    "        k += 1\n",
    "\n",
    "    while j < len(arr_d):\n",
    "        arreglo[k] = arr_d[j]\n",
    "        j += 1\n",
    "        k += 1\n",
    "    return arreglo\n",
    "\n",
    "def sort(arr):\n",
    "    if len(arr) <= 1:\n",
    "        return arr\n",
    "    \n",
    "    mid= len(arr) // 2\n",
    "    arr_i = sort(arr[:mid])\n",
    "    arr_d = sort(arr[mid:])\n",
    "\n",
    "    return merge(arr_i,arr_d)"
   ]
  },
  {
   "cell_type": "markdown",
   "metadata": {},
   "source": [
    "## Implementación del Quicksort"
   ]
  },
  {
   "cell_type": "code",
   "execution_count": 3,
   "metadata": {},
   "outputs": [],
   "source": [
    "def quicksort(arr):\n",
    "    if len(arr) <= 1:\n",
    "        return arr\n",
    "    else:\n",
    "        pivote = arr[0]\n",
    "        mayor = []\n",
    "        menor = []\n",
    "        for i in range(1,len(arr)):\n",
    "            if arr[i] < pivote:\n",
    "                menor.append(arr[i])\n",
    "            else:\n",
    "                mayor.append(arr[i])\n",
    "        return quicksort(menor)+[pivote]+quicksort(mayor)"
   ]
  },
  {
   "attachments": {},
   "cell_type": "markdown",
   "metadata": {},
   "source": [
    "## Comparación de tiempos"
   ]
  },
  {
   "cell_type": "code",
   "execution_count": 4,
   "metadata": {},
   "outputs": [],
   "source": [
    "tams = [10,100,1000,10000,1000000,10000000,10000000,100000000]\n",
    "\n",
    "mergesort_tiempos = []\n",
    "quicksort_tiempos = []\n",
    "numpysort_tiempos = []\n",
    "\n",
    "for tam in tams:\n",
    "    arr = np.random.randint(0,100000,tam)\n",
    "    mergesort_tiempo = timeit.timeit('sort(arr)', number = 1, globals=globals())\n",
    "    quicksort_tiempo = timeit.timeit('quicksort(arr)', number = 1, globals=globals())\n",
    "    numpysort_tiempo = timeit.timeit('np.sort(arr)', number = 1, globals=globals())\n",
    "    mergesort_tiempos.append(mergesort_tiempo)\n",
    "    quicksort_tiempos.append(quicksort_tiempo)\n",
    "    numpysort_tiempos.append(numpysort_tiempo)"
   ]
  },
  {
   "cell_type": "code",
   "execution_count": 5,
   "metadata": {},
   "outputs": [
    {
     "data": {
      "text/plain": [
       "[9.030004730448127e-05,\n",
       " 0.0004838999593630433,\n",
       " 0.005230700015090406,\n",
       " 0.09893590002320707,\n",
       " 10.147738800034858,\n",
       " 92.78855689999182,\n",
       " 82.75273220002418,\n",
       " 955.8377300000284]"
      ]
     },
     "execution_count": 5,
     "metadata": {},
     "output_type": "execute_result"
    }
   ],
   "source": [
    "mergesort_tiempos"
   ]
  },
  {
   "cell_type": "code",
   "execution_count": 6,
   "metadata": {},
   "outputs": [
    {
     "data": {
      "text/plain": [
       "[2.3800006601959467e-05,\n",
       " 0.0004249999765306711,\n",
       " 0.002968599961604923,\n",
       " 0.01500720001058653,\n",
       " 4.125432999979239,\n",
       " 69.04066810000222,\n",
       " 68.84252100001322,\n",
       " 3745.904790600005]"
      ]
     },
     "execution_count": 6,
     "metadata": {},
     "output_type": "execute_result"
    }
   ],
   "source": [
    "quicksort_tiempos"
   ]
  },
  {
   "cell_type": "code",
   "execution_count": 7,
   "metadata": {},
   "outputs": [
    {
     "data": {
      "text/plain": [
       "[5.7399971410632133e-05,\n",
       " 4.269997589290142e-05,\n",
       " 0.00012129999231547117,\n",
       " 0.0004178999806754291,\n",
       " 0.06693129998166114,\n",
       " 0.5240362000185996,\n",
       " 0.5680359000107273,\n",
       " 5.436266699980479]"
      ]
     },
     "execution_count": 7,
     "metadata": {},
     "output_type": "execute_result"
    }
   ],
   "source": [
    "numpysort_tiempos"
   ]
  },
  {
   "attachments": {},
   "cell_type": "markdown",
   "metadata": {},
   "source": [
    "## Graficación de tiempos"
   ]
  },
  {
   "cell_type": "code",
   "execution_count": 8,
   "metadata": {},
   "outputs": [
    {
     "data": {
      "image/png": "[encoded data removed]",
      "text/plain": [
       "<Figure size 640x480 with 1 Axes>"
      ]
     },
     "metadata": {},
     "output_type": "display_data"
    }
   ],
   "source": [
    "plt.plot(tams,mergesort_tiempos,label='Mergesort')\n",
    "plt.plot(tams,quicksort_tiempos,label='Quicksort')\n",
    "plt.plot(tams,numpysort_tiempos,label='Numpysort')\n",
    "plt.xlabel(\"Tamaño del arreglo\")\n",
    "plt.ylabel(\"Tiempo (segundos)\")\n",
    "plt.legend()\n",
    "plt.show()"
   ]
  },
  {
   "attachments": {},
   "cell_type": "markdown",
   "metadata": {},
   "source": [
    "## Tabulación de tiempos"
   ]
  },
  {
   "cell_type": "code",
   "execution_count": 9,
   "metadata": {},
   "outputs": [
    {
     "data": {
      "text/html": [
       "<div>\n",
       "<style scoped>\n",
       "    .dataframe tbody tr th:only-of-type {\n",
       "        vertical-align: middle;\n",
       "    }\n",
       "\n",
       "    .dataframe tbody tr th {\n",
       "        vertical-align: top;\n",
       "    }\n",
       "\n",
       "    .dataframe thead th {\n",
       "        text-align: right;\n",
       "    }\n",
       "</style>\n",
       "<table border=\"1\" class=\"dataframe\">\n",
       "  <thead>\n",
       "    <tr style=\"text-align: right;\">\n",
       "      <th></th>\n",
       "      <th>Tiempos Mergesort</th>\n",
       "      <th>Tiempos Quicksort</th>\n",
       "      <th>Tiempos Numpysort</th>\n",
       "    </tr>\n",
       "    <tr>\n",
       "      <th>Tamaños de los arreglos</th>\n",
       "      <th></th>\n",
       "      <th></th>\n",
       "      <th></th>\n",
       "    </tr>\n",
       "  </thead>\n",
       "  <tbody>\n",
       "    <tr>\n",
       "      <th>10</th>\n",
       "      <td>0.000090</td>\n",
       "      <td>0.000024</td>\n",
       "      <td>0.000057</td>\n",
       "    </tr>\n",
       "    <tr>\n",
       "      <th>100</th>\n",
       "      <td>0.000484</td>\n",
       "      <td>0.000425</td>\n",
       "      <td>0.000043</td>\n",
       "    </tr>\n",
       "    <tr>\n",
       "      <th>1000</th>\n",
       "      <td>0.005231</td>\n",
       "      <td>0.002969</td>\n",
       "      <td>0.000121</td>\n",
       "    </tr>\n",
       "    <tr>\n",
       "      <th>10000</th>\n",
       "      <td>0.098936</td>\n",
       "      <td>0.015007</td>\n",
       "      <td>0.000418</td>\n",
       "    </tr>\n",
       "    <tr>\n",
       "      <th>1000000</th>\n",
       "      <td>10.147739</td>\n",
       "      <td>4.125433</td>\n",
       "      <td>0.066931</td>\n",
       "    </tr>\n",
       "    <tr>\n",
       "      <th>10000000</th>\n",
       "      <td>92.788557</td>\n",
       "      <td>69.040668</td>\n",
       "      <td>0.524036</td>\n",
       "    </tr>\n",
       "    <tr>\n",
       "      <th>10000000</th>\n",
       "      <td>82.752732</td>\n",
       "      <td>68.842521</td>\n",
       "      <td>0.568036</td>\n",
       "    </tr>\n",
       "    <tr>\n",
       "      <th>100000000</th>\n",
       "      <td>955.837730</td>\n",
       "      <td>3745.904791</td>\n",
       "      <td>5.436267</td>\n",
       "    </tr>\n",
       "  </tbody>\n",
       "</table>\n",
       "</div>"
      ],
      "text/plain": [
       "                         Tiempos Mergesort  Tiempos Quicksort  \\\n",
       "Tamaños de los arreglos                                         \n",
       "10                                0.000090           0.000024   \n",
       "100                               0.000484           0.000425   \n",
       "1000                              0.005231           0.002969   \n",
       "10000                             0.098936           0.015007   \n",
       "1000000                          10.147739           4.125433   \n",
       "10000000                         92.788557          69.040668   \n",
       "10000000                         82.752732          68.842521   \n",
       "100000000                       955.837730        3745.904791   \n",
       "\n",
       "                         Tiempos Numpysort  \n",
       "Tamaños de los arreglos                     \n",
       "10                                0.000057  \n",
       "100                               0.000043  \n",
       "1000                              0.000121  \n",
       "10000                             0.000418  \n",
       "1000000                           0.066931  \n",
       "10000000                          0.524036  \n",
       "10000000                          0.568036  \n",
       "100000000                         5.436267  "
      ]
     },
     "execution_count": 9,
     "metadata": {},
     "output_type": "execute_result"
    }
   ],
   "source": [
    "data = {\n",
    "    'Tiempos Mergesort': mergesort_tiempos,\n",
    "    'Tiempos Quicksort': quicksort_tiempos,\n",
    "    'Tiempos Numpysort': numpysort_tiempos,\n",
    "    'Tamaños de los arreglos': tams\n",
    "}\n",
    "\n",
    "df= pd.DataFrame(data)\n",
    "df.set_index('Tamaños de los arreglos',inplace=True)\n",
    "df"
   ]
  },
  {
   "attachments": {},
   "cell_type": "markdown",
   "metadata": {},
   "source": [
    "# Conclusión"
   ]
  },
  {
   "cell_type": "markdown",
   "metadata": {},
   "source": [
    "Esta primera práctica fue bastante interesante, ya que ha sido de nuestros primeros acercamientos a python, sus librerías y el uso de sus funciones. Tambien el hecho de conocer otros algoritmos e irse dando cuenta de la eficiencia qué tienen para resolver los problemas, dado que muchas veces nos vamos por la manera más intuitiva y la que parece más sencilla pero al manipular grandes cantidades de datos siempre será mejor un algoritmo más eficiente, de igual manera el implementar otros códigos ayuda a desarrollar nuestra lógica al programar, ya que en el mundo laboral nuestro trabajo necesitará de esos conocimientos y habilidades."
   ]
  }
 ],
 "metadata": {
  "kernelspec": {
   "display_name": "Python 3",
   "language": "python",
   "name": "python3"
  },
  "language_info": {
   "codemirror_mode": {
    "name": "ipython",
    "version": 3
   },
   "file_extension": ".py",
   "mimetype": "text/x-python",
   "name": "python",
   "nbconvert_exporter": "python",
   "pygments_lexer": "ipython3",
   "version": "3.11.2"
  },
  "orig_nbformat": 4
 },
 "nbformat": 4,
 "nbformat_minor": 2
}
