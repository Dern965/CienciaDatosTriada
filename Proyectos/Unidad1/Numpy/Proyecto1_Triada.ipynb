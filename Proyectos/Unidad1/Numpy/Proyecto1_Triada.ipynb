{
 "cells": [
  {
   "attachments": {},
   "cell_type": "markdown",
   "metadata": {},
   "source": [
    "# Práctica 1"
   ]
  },
  {
   "attachments": {},
   "cell_type": "markdown",
   "metadata": {},
   "source": [
    "## Integrantes"
   ]
  },
  {
   "attachments": {},
   "cell_type": "markdown",
   "metadata": {},
   "source": [
    "* Garcia Saavedra Armando\n",
    "* Orozco Guillen Jorge David\n",
    "* Rodriguez Nuñez Diego Eduardo"
   ]
  },
  {
   "cell_type": "code",
   "execution_count": 1,
   "metadata": {},
   "outputs": [],
   "source": [
    "import numpy as np\n",
    "import matplotlib.pyplot as plt\n",
    "import timeit\n",
    "import pandas as pd"
   ]
  },
  {
   "attachments": {},
   "cell_type": "markdown",
   "metadata": {},
   "source": [
    "## Implementación del Mergesort"
   ]
  },
  {
   "cell_type": "code",
   "execution_count": 2,
   "metadata": {},
   "outputs": [],
   "source": [
    "def merge(arr_i,arr_d):\n",
    "    i=j=k=0\n",
    "    arreglo = np.zeros(len(arr_i)+len(arr_d))\n",
    "    while i < len(arr_i) and j < len(arr_d):\n",
    "        if arr_i[i] < arr_d[j]:\n",
    "            arreglo[k] = arr_i[i]\n",
    "            i += 1\n",
    "        else:\n",
    "            arreglo[k] = arr_d[j]\n",
    "            j += 1\n",
    "        k += 1\n",
    "\n",
    "    while i < len(arr_i):\n",
    "        arreglo[k] = arr_i[i]\n",
    "        i += 1\n",
    "        k += 1\n",
    "\n",
    "    while j < len(arr_d):\n",
    "        arreglo[k] = arr_d[j]\n",
    "        j += 1\n",
    "        k += 1\n",
    "    return arreglo\n",
    "\n",
    "def sort(arr):\n",
    "    if len(arr) <= 1:\n",
    "        return arr\n",
    "    \n",
    "    mid= len(arr) // 2\n",
    "    arr_i = sort(arr[:mid])\n",
    "    arr_d = sort(arr[mid:])\n",
    "\n",
    "    return merge(arr_i,arr_d)"
   ]
  },
  {
   "cell_type": "markdown",
   "metadata": {},
   "source": [
    "## Implementación del Quicksort"
   ]
  },
  {
   "cell_type": "code",
   "execution_count": 3,
   "metadata": {},
   "outputs": [],
   "source": [
    "def quicksort(arr):\n",
    "    if len(arr) <= 1:\n",
    "        return arr\n",
    "    else:\n",
    "        pivote = arr[0]\n",
    "        mayor = []\n",
    "        menor = []\n",
    "        for i in range(1,len(arr)):\n",
    "            if arr[i] < pivote:\n",
    "                menor.append(arr[i])\n",
    "            else:\n",
    "                mayor.append(arr[i])\n",
    "        return quicksort(menor)+[pivote]+quicksort(mayor)"
   ]
  },
  {
   "attachments": {},
   "cell_type": "markdown",
   "metadata": {},
   "source": [
    "## Comparación de tiempos"
   ]
  },
  {
   "cell_type": "code",
   "execution_count": 4,
   "metadata": {},
   "outputs": [],
   "source": [
    "tams = [10,100,1000,10000,1000000,10000000,10000000,100000000]\n",
    "\n",
    "mergesort_tiempos = []\n",
    "quicksort_tiempos = []\n",
    "numpysort_tiempos = []\n",
    "\n",
    "for tam in tams:\n",
    "    arr = np.random.randint(0,100000,tam)\n",
    "    mergesort_tiempo = timeit.timeit('sort(arr)', number = 1, globals=globals())\n",
    "    quicksort_tiempo = timeit.timeit('quicksort(arr)', number = 1, globals=globals())\n",
    "    numpysort_tiempo = timeit.timeit('np.sort(arr)', number = 1, globals=globals())\n",
    "    mergesort_tiempos.append(mergesort_tiempo)\n",
    "    quicksort_tiempos.append(quicksort_tiempo)\n",
    "    numpysort_tiempos.append(numpysort_tiempo)"
   ]
  },
  {
   "cell_type": "code",
   "execution_count": 6,
   "metadata": {},
   "outputs": [
    {
     "data": {
      "text/plain": [
       "[5.299999611452222e-05,\n",
       " 0.00032729998929426074,\n",
       " 0.004003500012913719,\n",
       " 0.06762230000458658,\n",
       " 7.339073599985568,\n",
       " 87.2742798999825,\n",
       " 88.99451089999638,\n",
       " 1019.4821179000137]"
      ]
     },
     "execution_count": 6,
     "metadata": {},
     "output_type": "execute_result"
    }
   ],
   "source": [
    "mergesort_tiempos"
   ]
  },
  {
   "cell_type": "code",
   "execution_count": 7,
   "metadata": {},
   "outputs": [
    {
     "data": {
      "text/plain": [
       "[1.3699987903237343e-05,\n",
       " 0.00010090001160278916,\n",
       " 0.0017333000141661614,\n",
       " 0.013709799997741356,\n",
       " 2.9154058000131045,\n",
       " 74.59632289997535,\n",
       " 76.70600130001549,\n",
       " 3742.3668113999884]"
      ]
     },
     "execution_count": 7,
     "metadata": {},
     "output_type": "execute_result"
    }
   ],
   "source": [
    "quicksort_tiempos"
   ]
  },
  {
   "cell_type": "code",
   "execution_count": 8,
   "metadata": {},
   "outputs": [
    {
     "data": {
      "text/plain": [
       "[3.29999893438071e-05,\n",
       " 1.0399991879239678e-05,\n",
       " 7.800001185387373e-05,\n",
       " 0.00040079999598674476,\n",
       " 0.05201870002201758,\n",
       " 0.5499336999782827,\n",
       " 0.585267600021325,\n",
       " 5.981388299987884]"
      ]
     },
     "execution_count": 8,
     "metadata": {},
     "output_type": "execute_result"
    }
   ],
   "source": [
    "numpysort_tiempos"
   ]
  },
  {
   "attachments": {},
   "cell_type": "markdown",
   "metadata": {},
   "source": [
    "## Graficación de tiempos"
   ]
  },
  {
   "cell_type": "code",
   "execution_count": 5,
   "metadata": {},
   "outputs": [
    {
     "data": {
      "image/png": "[encoded data removed]",
      "text/plain": [
       "<Figure size 640x480 with 1 Axes>"
      ]
     },
     "metadata": {},
     "output_type": "display_data"
    }
   ],
   "source": [
    "plt.plot(tams,mergesort_tiempos,label='Mergesort')\n",
    "plt.plot(tams,quicksort_tiempos,label='Quicksort')\n",
    "plt.plot(tams,numpysort_tiempos,label='Numpysort')\n",
    "plt.xlabel(\"Tamaño del arreglo\")\n",
    "plt.ylabel(\"Tiempo (segundos)\")\n",
    "plt.legend()\n",
    "plt.show()"
   ]
  },
  {
   "attachments": {},
   "cell_type": "markdown",
   "metadata": {},
   "source": [
    "## Tabulación de tiempos"
   ]
  },
  {
   "cell_type": "code",
   "execution_count": 9,
   "metadata": {},
   "outputs": [
    {
     "data": {
      "text/html": [
       "<div>\n",
       "<style scoped>\n",
       "    .dataframe tbody tr th:only-of-type {\n",
       "        vertical-align: middle;\n",
       "    }\n",
       "\n",
       "    .dataframe tbody tr th {\n",
       "        vertical-align: top;\n",
       "    }\n",
       "\n",
       "    .dataframe thead th {\n",
       "        text-align: right;\n",
       "    }\n",
       "</style>\n",
       "<table border=\"1\" class=\"dataframe\">\n",
       "  <thead>\n",
       "    <tr style=\"text-align: right;\">\n",
       "      <th></th>\n",
       "      <th>Tiempos Mergesort</th>\n",
       "      <th>Tiempos Quicksort</th>\n",
       "      <th>Tiempos Numpysort</th>\n",
       "    </tr>\n",
       "    <tr>\n",
       "      <th>Tamaños de los arreglos</th>\n",
       "      <th></th>\n",
       "      <th></th>\n",
       "      <th></th>\n",
       "    </tr>\n",
       "  </thead>\n",
       "  <tbody>\n",
       "    <tr>\n",
       "      <th>10</th>\n",
       "      <td>0.000053</td>\n",
       "      <td>0.000014</td>\n",
       "      <td>0.000033</td>\n",
       "    </tr>\n",
       "    <tr>\n",
       "      <th>100</th>\n",
       "      <td>0.000327</td>\n",
       "      <td>0.000101</td>\n",
       "      <td>0.000010</td>\n",
       "    </tr>\n",
       "    <tr>\n",
       "      <th>1000</th>\n",
       "      <td>0.004004</td>\n",
       "      <td>0.001733</td>\n",
       "      <td>0.000078</td>\n",
       "    </tr>\n",
       "    <tr>\n",
       "      <th>10000</th>\n",
       "      <td>0.067622</td>\n",
       "      <td>0.013710</td>\n",
       "      <td>0.000401</td>\n",
       "    </tr>\n",
       "    <tr>\n",
       "      <th>1000000</th>\n",
       "      <td>7.339074</td>\n",
       "      <td>2.915406</td>\n",
       "      <td>0.052019</td>\n",
       "    </tr>\n",
       "    <tr>\n",
       "      <th>10000000</th>\n",
       "      <td>87.274280</td>\n",
       "      <td>74.596323</td>\n",
       "      <td>0.549934</td>\n",
       "    </tr>\n",
       "    <tr>\n",
       "      <th>10000000</th>\n",
       "      <td>88.994511</td>\n",
       "      <td>76.706001</td>\n",
       "      <td>0.585268</td>\n",
       "    </tr>\n",
       "    <tr>\n",
       "      <th>100000000</th>\n",
       "      <td>1019.482118</td>\n",
       "      <td>3742.366811</td>\n",
       "      <td>5.981388</td>\n",
       "    </tr>\n",
       "  </tbody>\n",
       "</table>\n",
       "</div>"
      ],
      "text/plain": [
       "                         Tiempos Mergesort  Tiempos Quicksort  \\\n",
       "Tamaños de los arreglos                                         \n",
       "10                                0.000053           0.000014   \n",
       "100                               0.000327           0.000101   \n",
       "1000                              0.004004           0.001733   \n",
       "10000                             0.067622           0.013710   \n",
       "1000000                           7.339074           2.915406   \n",
       "10000000                         87.274280          74.596323   \n",
       "10000000                         88.994511          76.706001   \n",
       "100000000                      1019.482118        3742.366811   \n",
       "\n",
       "                         Tiempos Numpysort  \n",
       "Tamaños de los arreglos                     \n",
       "10                                0.000033  \n",
       "100                               0.000010  \n",
       "1000                              0.000078  \n",
       "10000                             0.000401  \n",
       "1000000                           0.052019  \n",
       "10000000                          0.549934  \n",
       "10000000                          0.585268  \n",
       "100000000                         5.981388  "
      ]
     },
     "execution_count": 9,
     "metadata": {},
     "output_type": "execute_result"
    }
   ],
   "source": [
    "data = {\n",
    "    'Tiempos Mergesort': mergesort_tiempos,\n",
    "    'Tiempos Quicksort': quicksort_tiempos,\n",
    "    'Tiempos Numpysort': numpysort_tiempos,\n",
    "    'Tamaños de los arreglos': tams\n",
    "}\n",
    "\n",
    "df= pd.DataFrame(data)\n",
    "df.set_index('Tamaños de los arreglos',inplace=True)\n",
    "df"
   ]
  }
 ],
 "metadata": {
  "kernelspec": {
   "display_name": "Python 3",
   "language": "python",
   "name": "python3"
  },
  "language_info": {
   "codemirror_mode": {
    "name": "ipython",
    "version": 3
   },
   "file_extension": ".py",
   "mimetype": "text/x-python",
   "name": "python",
   "nbconvert_exporter": "python",
   "pygments_lexer": "ipython3",
   "version": "3.11.2"
  },
  "orig_nbformat": 4
 },
 "nbformat": 4,
 "nbformat_minor": 2
}
