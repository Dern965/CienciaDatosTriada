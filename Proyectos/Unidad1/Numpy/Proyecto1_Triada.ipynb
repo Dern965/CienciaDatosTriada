{
 "cells": [
  {
   "attachments": {},
   "cell_type": "markdown",
   "metadata": {},
   "source": [
    "# Práctica 1"
   ]
  },
  {
   "attachments": {},
   "cell_type": "markdown",
   "metadata": {},
   "source": [
    "## Integrantes"
   ]
  },
  {
   "attachments": {},
   "cell_type": "markdown",
   "metadata": {},
   "source": [
    "* Garcia Saavedra Armando\n",
    "* Orozco Guillen Jorge David\n",
    "* Rodriguez Nuñez Diego Eduardo"
   ]
  },
  {
   "cell_type": "code",
   "execution_count": 5,
   "metadata": {},
   "outputs": [],
   "source": [
    "import numpy as np\n",
    "import matplotlib.pyplot as plt\n",
    "import timeit\n",
    "import pandas as pd"
   ]
  },
  {
   "attachments": {},
   "cell_type": "markdown",
   "metadata": {},
   "source": [
    "## Implementación del Mergesort"
   ]
  },
  {
   "cell_type": "code",
   "execution_count": 6,
   "metadata": {},
   "outputs": [],
   "source": [
    "def merge(arr_i,arr_d):\n",
    "    i=j=k=0\n",
    "    arreglo = np.zeros(len(arr_i)+len(arr_d))\n",
    "    while i < len(arr_i) and j < len(arr_d):\n",
    "        if arr_i[i] < arr_d[j]:\n",
    "            arreglo[k] = arr_i[i]\n",
    "            i += 1\n",
    "        else:\n",
    "            arreglo[k] = arr_d[j]\n",
    "            j += 1\n",
    "        k += 1\n",
    "\n",
    "    while i < len(arr_i):\n",
    "        arreglo[k] = arr_i[i]\n",
    "        i += 1\n",
    "        k += 1\n",
    "\n",
    "    while j < len(arr_d):\n",
    "        arreglo[k] = arr_d[j]\n",
    "        j += 1\n",
    "        k += 1\n",
    "    return arreglo\n",
    "\n",
    "def sort(arr):\n",
    "    if len(arr) <= 1:\n",
    "        return arr\n",
    "    \n",
    "    mid= len(arr) // 2\n",
    "    arr_i = sort(arr[:mid])\n",
    "    arr_d = sort(arr[mid:])\n",
    "\n",
    "    return merge(arr_i,arr_d)"
   ]
  },
  {
   "cell_type": "markdown",
   "metadata": {},
   "source": [
    "## Implementación del Quicksort"
   ]
  },
  {
   "cell_type": "code",
   "execution_count": 7,
   "metadata": {},
   "outputs": [],
   "source": [
    "def quicksort(arr):\n",
    "    if len(arr) <= 1:\n",
    "        return arr\n",
    "    else:\n",
    "        pivote = arr[0]\n",
    "        mayor = []\n",
    "        menor = []\n",
    "        for i in range(1,len(arr)):\n",
    "            if arr[i] < pivote:\n",
    "                menor.append(arr[i])\n",
    "            else:\n",
    "                mayor.append(arr[i])\n",
    "        return quicksort(menor)+[pivote]+quicksort(mayor)"
   ]
  },
  {
   "attachments": {},
   "cell_type": "markdown",
   "metadata": {},
   "source": [
    "## Comparación de tiempos"
   ]
  },
  {
   "cell_type": "code",
   "execution_count": 8,
   "metadata": {},
   "outputs": [],
   "source": [
    "tams = [10,100,1000,10000,100000,1000000,10000000,100000000]\n",
    "\n",
    "mergesort_tiempos = []\n",
    "quicksort_tiempos = []\n",
    "numpysort_tiempos = []\n",
    "\n",
    "for tam in tams:\n",
    "    arr = np.random.randint(0,100000,tam)\n",
    "    mergesort_tiempo = timeit.timeit('sort(arr)', number = 1, globals=globals())\n",
    "    quicksort_tiempo = timeit.timeit('quicksort(arr)', number = 1, globals=globals())\n",
    "    numpysort_tiempo = timeit.timeit('np.sort(arr)', number = 1, globals=globals())\n",
    "    mergesort_tiempos.append(mergesort_tiempo)\n",
    "    quicksort_tiempos.append(quicksort_tiempo)\n",
    "    numpysort_tiempos.append(numpysort_tiempo)"
   ]
  },
  {
   "cell_type": "code",
   "execution_count": 9,
   "metadata": {},
   "outputs": [
    {
     "data": {
      "text/plain": [
       "[6.360001862049103e-05,\n",
       " 0.0003714000340551138,\n",
       " 0.004106399952434003,\n",
       " 0.05198669998208061,\n",
       " 0.6212766999960877,\n",
       " 7.663067299989052,\n",
       " 93.51218449999578,\n",
       " 989.4278629000182]"
      ]
     },
     "execution_count": 9,
     "metadata": {},
     "output_type": "execute_result"
    }
   ],
   "source": [
    "mergesort_tiempos"
   ]
  },
  {
   "cell_type": "code",
   "execution_count": 10,
   "metadata": {},
   "outputs": [
    {
     "data": {
      "text/plain": [
       "[1.8300022929906845e-05,\n",
       " 9.410001803189516e-05,\n",
       " 0.0011733000283129513,\n",
       " 0.014178499986883253,\n",
       " 0.17594709998229519,\n",
       " 3.7260208999505267,\n",
       " 73.16651640000055,\n",
       " 3696.5543431999977]"
      ]
     },
     "execution_count": 10,
     "metadata": {},
     "output_type": "execute_result"
    }
   ],
   "source": [
    "quicksort_tiempos"
   ]
  },
  {
   "cell_type": "code",
   "execution_count": 11,
   "metadata": {},
   "outputs": [
    {
     "data": {
      "text/plain": [
       "[0.00012500002048909664,\n",
       " 2.7800037059932947e-05,\n",
       " 0.00012129999231547117,\n",
       " 0.00039540004217997193,\n",
       " 0.0048540999996475875,\n",
       " 0.0565420999773778,\n",
       " 0.5472714999923483,\n",
       " 5.437204300018493]"
      ]
     },
     "execution_count": 11,
     "metadata": {},
     "output_type": "execute_result"
    }
   ],
   "source": [
    "numpysort_tiempos"
   ]
  },
  {
   "attachments": {},
   "cell_type": "markdown",
   "metadata": {},
   "source": [
    "## Graficación de tiempos"
   ]
  },
  {
   "cell_type": "code",
   "execution_count": 12,
   "metadata": {},
   "outputs": [
    {
     "data": {
      "image/png": "[encoded data removed]",
      "text/plain": [
       "<Figure size 640x480 with 1 Axes>"
      ]
     },
     "metadata": {},
     "output_type": "display_data"
    }
   ],
   "source": [
    "plt.plot(tams,mergesort_tiempos,label='Mergesort')\n",
    "plt.plot(tams,quicksort_tiempos,label='Quicksort')\n",
    "plt.plot(tams,numpysort_tiempos,label='Numpysort')\n",
    "plt.xlabel(\"Tamaño del arreglo\")\n",
    "plt.ylabel(\"Tiempo (segundos)\")\n",
    "plt.legend()\n",
    "plt.show()"
   ]
  },
  {
   "attachments": {},
   "cell_type": "markdown",
   "metadata": {},
   "source": [
    "## Tabulación de tiempos"
   ]
  },
  {
   "cell_type": "code",
   "execution_count": 13,
   "metadata": {},
   "outputs": [
    {
     "data": {
      "text/html": [
       "<div>\n",
       "<style scoped>\n",
       "    .dataframe tbody tr th:only-of-type {\n",
       "        vertical-align: middle;\n",
       "    }\n",
       "\n",
       "    .dataframe tbody tr th {\n",
       "        vertical-align: top;\n",
       "    }\n",
       "\n",
       "    .dataframe thead th {\n",
       "        text-align: right;\n",
       "    }\n",
       "</style>\n",
       "<table border=\"1\" class=\"dataframe\">\n",
       "  <thead>\n",
       "    <tr style=\"text-align: right;\">\n",
       "      <th></th>\n",
       "      <th>Tiempos Mergesort</th>\n",
       "      <th>Tiempos Quicksort</th>\n",
       "      <th>Tiempos Numpysort</th>\n",
       "    </tr>\n",
       "    <tr>\n",
       "      <th>Tamaños de los arreglos</th>\n",
       "      <th></th>\n",
       "      <th></th>\n",
       "      <th></th>\n",
       "    </tr>\n",
       "  </thead>\n",
       "  <tbody>\n",
       "    <tr>\n",
       "      <th>10</th>\n",
       "      <td>0.000064</td>\n",
       "      <td>0.000018</td>\n",
       "      <td>0.000125</td>\n",
       "    </tr>\n",
       "    <tr>\n",
       "      <th>100</th>\n",
       "      <td>0.000371</td>\n",
       "      <td>0.000094</td>\n",
       "      <td>0.000028</td>\n",
       "    </tr>\n",
       "    <tr>\n",
       "      <th>1000</th>\n",
       "      <td>0.004106</td>\n",
       "      <td>0.001173</td>\n",
       "      <td>0.000121</td>\n",
       "    </tr>\n",
       "    <tr>\n",
       "      <th>10000</th>\n",
       "      <td>0.051987</td>\n",
       "      <td>0.014178</td>\n",
       "      <td>0.000395</td>\n",
       "    </tr>\n",
       "    <tr>\n",
       "      <th>100000</th>\n",
       "      <td>0.621277</td>\n",
       "      <td>0.175947</td>\n",
       "      <td>0.004854</td>\n",
       "    </tr>\n",
       "    <tr>\n",
       "      <th>1000000</th>\n",
       "      <td>7.663067</td>\n",
       "      <td>3.726021</td>\n",
       "      <td>0.056542</td>\n",
       "    </tr>\n",
       "    <tr>\n",
       "      <th>10000000</th>\n",
       "      <td>93.512184</td>\n",
       "      <td>73.166516</td>\n",
       "      <td>0.547271</td>\n",
       "    </tr>\n",
       "    <tr>\n",
       "      <th>100000000</th>\n",
       "      <td>989.427863</td>\n",
       "      <td>3696.554343</td>\n",
       "      <td>5.437204</td>\n",
       "    </tr>\n",
       "  </tbody>\n",
       "</table>\n",
       "</div>"
      ],
      "text/plain": [
       "                         Tiempos Mergesort  Tiempos Quicksort  \\\n",
       "Tamaños de los arreglos                                         \n",
       "10                                0.000064           0.000018   \n",
       "100                               0.000371           0.000094   \n",
       "1000                              0.004106           0.001173   \n",
       "10000                             0.051987           0.014178   \n",
       "100000                            0.621277           0.175947   \n",
       "1000000                           7.663067           3.726021   \n",
       "10000000                         93.512184          73.166516   \n",
       "100000000                       989.427863        3696.554343   \n",
       "\n",
       "                         Tiempos Numpysort  \n",
       "Tamaños de los arreglos                     \n",
       "10                                0.000125  \n",
       "100                               0.000028  \n",
       "1000                              0.000121  \n",
       "10000                             0.000395  \n",
       "100000                            0.004854  \n",
       "1000000                           0.056542  \n",
       "10000000                          0.547271  \n",
       "100000000                         5.437204  "
      ]
     },
     "execution_count": 13,
     "metadata": {},
     "output_type": "execute_result"
    }
   ],
   "source": [
    "data = {\n",
    "    'Tiempos Mergesort': mergesort_tiempos,\n",
    "    'Tiempos Quicksort': quicksort_tiempos,\n",
    "    'Tiempos Numpysort': numpysort_tiempos,\n",
    "    'Tamaños de los arreglos': tams\n",
    "}\n",
    "\n",
    "df= pd.DataFrame(data)\n",
    "df.set_index('Tamaños de los arreglos',inplace=True)\n",
    "df"
   ]
  },
  {
   "attachments": {},
   "cell_type": "markdown",
   "metadata": {},
   "source": [
    "# Conclusión"
   ]
  },
  {
   "cell_type": "markdown",
   "metadata": {},
   "source": [
    "Esta primera práctica fue bastante interesante, ya que ha sido de nuestros primeros acercamientos a python, sus librerías y el uso de sus funciones. Tambien el hecho de conocer otros algoritmos e irse dando cuenta de la eficiencia qué tienen para resolver los problemas, dado que muchas veces nos vamos por la manera más intuitiva y la que parece más sencilla pero al manipular grandes cantidades de datos siempre será mejor un algoritmo más eficiente, de igual manera el implementar otros códigos ayuda a desarrollar nuestra lógica al programar, ya que en el mundo laboral nuestro trabajo necesitará de esos conocimientos y habilidades."
   ]
  }
 ],
 "metadata": {
  "kernelspec": {
   "display_name": "Python 3",
   "language": "python",
   "name": "python3"
  },
  "language_info": {
   "codemirror_mode": {
    "name": "ipython",
    "version": 3
   },
   "file_extension": ".py",
   "mimetype": "text/x-python",
   "name": "python",
   "nbconvert_exporter": "python",
   "pygments_lexer": "ipython3",
   "version": "3.11.2"
  },
  "orig_nbformat": 4
 },
 "nbformat": 4,
 "nbformat_minor": 2
}
